{
 "cells": [
  {
   "cell_type": "markdown",
   "metadata": {
    "colab_type": "text",
    "id": "1oGjoWSWqQ77"
   },
   "source": [
    "## Assignment 3"
   ]
  },
  {
   "cell_type": "markdown",
   "metadata": {
    "colab_type": "text",
    "id": "-oi4JzShqQ78"
   },
   "source": [
    "This assignmemt is based on content discussed in modules 3 - 5 and test basic concepts of statistical inference theory and probability distributions."
   ]
  },
  {
   "cell_type": "markdown",
   "metadata": {
    "colab_type": "text",
    "id": "gjI1J5nXqQ79"
   },
   "source": [
    "## Learning outcomes"
   ]
  },
  {
   "cell_type": "markdown",
   "metadata": {
    "colab_type": "text",
    "id": "R9t0LyaqqQ7-"
   },
   "source": [
    "-   Work on problems of different distributions eg., gaussian \n",
    "-   Calculate z score \n",
    "-\tMake statistical inferences on given data\n",
    "-\tConstruct a null and an alternate hypothesis\n",
    "-\tFind the p-value for a given hypothesis and T test statistic."
   ]
  },
  {
   "cell_type": "markdown",
   "metadata": {
    "colab_type": "text",
    "id": "_lXvCMN_qQ7_"
   },
   "source": [
    "**Question 1**\n",
    "\n",
    "The Capital Asset Pricing Model (CAPM) is a financial model that assumes returns on a portfolio are normally distributed.  Suppose a portfolio has an average annual return of 14.7% (i.e., an average gain on 14.7%) with a standard deviation of 33%.  A return of 0% means the value of the portfolio doesn't change, a negative return means that the portfolio loses money, and a positive return means that the portfolio gains money. Determine the following:\n",
    "\n",
    "1. What percentage of years does this portfolio lose money, (i.e. have a return less than 0%)?\n",
    "2. What is the cutoff for the highest 15% of annual returns with this portfolio?\n",
    "\n",
    "See CAPM here https://en.wikipedia.org/wiki/Capital_asset_pricing_model "
   ]
  },
  {
   "cell_type": "markdown",
   "metadata": {
    "colab_type": "text",
    "id": "_l53E9BAqQ8A"
   },
   "source": [
    "**Question 2**\n",
    "\n",
    "Past experience indicates that because of low morale, a company loses 20 hours a year per employee due to lateness and abstenteeism.  Assume that the standard deviation of the population is 6 and normally distributed.\n",
    "\n",
    "The HR department implemented a new rewards system to increase employee morale, and after a few months it collected a random sample of 20 employees and the annualized absenteeism was 14.\n",
    "\n",
    "1. Could you confirm that the new rewards system was effective with a 90% confidence?\n",
    "2. An HR subject matter expert would be very happy if the program could reduce absenteeism by 20% (i.e. to 16 hours).  Given the current sampling parameters (sample size of 20 and std. dev. of population. 6), what is the probability that the new rewards system reduced absenteeism to 16 hours and you miss it?\n",
    "3. What should the sample size be if you want β to be 5%"
   ]
  },
  {
   "cell_type": "markdown",
   "metadata": {
    "colab_type": "text",
    "id": "LOjrz6ycqQ8A"
   },
   "source": [
    "**Question 3**\n",
    "\n",
    "Chi-Square Goodness of fit\n",
    "\n",
    "Please access and review **section 6.3.5** in the OpenIntro Statistics textbook:\n",
    "\n",
    "Diez, D., Çetinkaya-Rundel, M. & Barr, C (2019). OpenIntro Statistics (4th Ed.). https://leanpub.com/openintro-statistics\n",
    "\n",
    "Given the information in section 6.3.5, write python code for the following:\n",
    "\n",
    " - Calculate the expected values based on the geometric distribution with a probability of 53.2%\n",
    " - Compare the expected vs. the observed values from the textbook using the Chi-Square distribution\n",
    " - Reach a conclusion\n",
    " - Explain what is the business impact of your conclusion"
   ]
  },
  {
   "cell_type": "code",
   "execution_count": 41,
   "metadata": {
    "colab": {},
    "colab_type": "code",
    "id": "hSKqK4gZqQ8B"
   },
   "outputs": [
    {
     "name": "stdout",
     "output_type": "stream",
     "text": [
      "The probability the portfolio loses money is 0.328\n"
     ]
    }
   ],
   "source": [
    "#Question 1a\n",
    "\n",
    "#Solve for P(r < 0)\n",
    "\n",
    "lose_money = 0\n",
    "mean = 0.147\n",
    "std_deviation = 0.33\n",
    "z_score = (lose_money - mean)/std_deviation\n",
    "\n",
    "#Calculate the probability from the z-score\n",
    "import scipy.stats as stats\n",
    "result = stats.norm.cdf(z_score)\n",
    "\n",
    "print(\"The probability the portfolio loses money is\", round(result,3))"
   ]
  },
  {
   "cell_type": "code",
   "execution_count": 42,
   "metadata": {},
   "outputs": [
    {
     "name": "stdout",
     "output_type": "stream",
     "text": [
      "The cutoff for the highest 15% of annual returns is 0.496\n"
     ]
    }
   ],
   "source": [
    "#Question 1b\n",
    "\n",
    "#Solve for P(r >= 0.15)\n",
    "#P(r >= 0.15) = 1 - P(r < 0.15)\n",
    "\n",
    "gains = 0.15\n",
    "mean = 0.147\n",
    "std_deviation = 0.33\n",
    "z_score = (gains - mean)/std_deviation\n",
    "\n",
    "#Calculate the probability from the z-score\n",
    "result = 1-stats.norm.cdf(z_score)\n",
    "\n",
    "print(\"The cutoff for the highest 15% of annual returns is\", round(result,3))"
   ]
  },
  {
   "cell_type": "code",
   "execution_count": 49,
   "metadata": {},
   "outputs": [
    {
     "name": "stdout",
     "output_type": "stream",
     "text": [
      "3.872108215522035e-06\n"
     ]
    }
   ],
   "source": [
    "#Question 2a\n",
    "\n",
    "#Confirm whether the new rewards system was effective\n",
    "\n",
    "#Calculate the standard error\n",
    "import math \n",
    "\n",
    "std_deviation = 6\n",
    "mean = 20\n",
    "sample_mean = 14\n",
    "sample_size = 20\n",
    "\n",
    "SEM = std_deviation/math.sqrt(sample_size)\n",
    "\n",
    "#Perform a hypothesis whether there is a reduction of absenteeism using a one-tail test.\n",
    "#Ho - null hypothesis that the reward system did nothing\n",
    "#Ha - alternative hypothesis that the reward system changed the mean from 20 to 14\n",
    "\n",
    "z_score = (sample_mean - mean)/SEM\n",
    "\n",
    "P_score = stats.norm.cdf(z_score)\n",
    "print(P_score)\n",
    "\n",
    "#P-score is approximately 0\n",
    "#Reject the hypothesis if mean = 20. Don't reject if mean < 20.\n",
    "\n",
    "alpha = 0.1\n",
    "\n",
    "#P-score = 0 <= alpha\n",
    "#The null hypothesis should be rejected\n"
   ]
  },
  {
   "cell_type": "code",
   "execution_count": 106,
   "metadata": {},
   "outputs": [
    {
     "name": "stdout",
     "output_type": "stream",
     "text": [
      "The probability that the new rewards system reduced absenteeism to 16 hours and you miss it is 0.045\n"
     ]
    }
   ],
   "source": [
    "#Question 2b\n",
    "\n",
    "#Aim to reduce absenteeism to 16 hours\n",
    "#Find when the alternative is rejected\n",
    "\n",
    "#null hypothesis is absenteeism is 20\n",
    "#alternative hypothesis is absenteeism is 16\n",
    "target_mean = 16\n",
    "std_deviation = 6\n",
    "mean = 20\n",
    "sample_size = 20\n",
    "alpha = 0.1\n",
    "SEM = std_deviation/math.sqrt(sample_size)\n",
    "\n",
    "#null hypothesis z_score for type 1 error\n",
    "z_score = stats.norm.ppf(alpha)\n",
    "\n",
    "#Convert to mean value\n",
    "sample_mean = mean + SEM*z_score\n",
    "\n",
    "#alternative hypothesis for type 2 error\n",
    "#P(X_bar >= 18.28) = 1 - P(X_bar < 18.28)\n",
    "#Turn back to z_score\n",
    "z_score = (sample_mean - target_mean)/SEM\n",
    "P_score = 1-stats.norm.cdf(z_score)\n",
    "print(\"The probability that the new rewards system reduced absenteeism to 16 hours and you miss it is\",round(P_score,3))"
   ]
  },
  {
   "cell_type": "code",
   "execution_count": 111,
   "metadata": {},
   "outputs": [
    {
     "name": "stdout",
     "output_type": "stream",
     "text": [
      "A sample size of 19 will give a beta of 5%.\n"
     ]
    }
   ],
   "source": [
    "#Question 2c\n",
    "\n",
    "#Calculate the sample size for beta = 5%\n",
    "#A sample size of 20 already gives 4.5% \n",
    "z_alpha = stats.norm.ppf(alpha)\n",
    "z_beta = stats.norm.ppf(1-0.95)\n",
    "\n",
    "new_SE = (mean - target_mean)/(z_alpha+z_beta)\n",
    "new_sample_size = (std_deviation/new_SE)**2\n",
    "print(\"A sample size of\", round(new_sample_size), \"will give a beta of 5%.\")\n"
   ]
  },
  {
   "cell_type": "code",
   "execution_count": 174,
   "metadata": {},
   "outputs": [
    {
     "name": "stdout",
     "output_type": "stream",
     "text": [
      "[742. 338. 154.  70.  32.  14.  12.] Expected\n",
      "[717 369 155  69  28  14  10] Observed\n",
      "4.539625879683935 Chi Squared\n",
      "12.591587243743977 Alpha Chi Squared Value\n"
     ]
    }
   ],
   "source": [
    "#Question 3\n",
    "\n",
    "#Probability the market is up. Assume P(up)=53.2%\n",
    "import numpy as np\n",
    "\n",
    "arr = np.array([])\n",
    "p = 0.545\n",
    "sample_size = 1362\n",
    "\n",
    "for x in np.arange(0,6): \n",
    "    arr = np.append(arr,(1-p)**x*p)\n",
    "\n",
    "arr = np.round(arr * sample_size)\n",
    "expected = np.append(arr,sample_size - sum(arr))\n",
    "print(expected, \"Expected\")\n",
    "\n",
    "observed = np.array([717,369,155,69,28,14,10])\n",
    "print(observed, \"Observed\")\n",
    "\n",
    "#Visually, it appears the geometric distribution aligns with the observed values.\n",
    "#To test the goodness of fit, the Chi-Square distribution is used.\n",
    "#Ho assume the number of days until Up is geometrically distributed\n",
    "#Ha assume the number of days until Up is not geometrically distributed\n",
    "\n",
    "df = 7 - 1\n",
    "chi_squared = (observed - expected)**2/expected\n",
    "print(sum(chi_squared), \"Chi Squared\")\n",
    "\n",
    "#Assuming a significance of 5%\n",
    "alpha_chi = stats.chi2.ppf(0.95,df)\n",
    "print(alpha_chi, \"Alpha Chi Squared Value\")\n",
    "\n",
    "#Since 4.5 is less than 12.5, the null hypothesis fails to be rejected\n",
    "\n",
    "#The business impact means the S&P 500 ups can be predicted as a \n",
    "#geometric distribution which can help traders determine when to\n",
    "#buy/sell shares."
   ]
  },
  {
   "cell_type": "code",
   "execution_count": null,
   "metadata": {},
   "outputs": [],
   "source": [
    "'''\n",
    "Given the information in section 6.3.5, write python code for the following:\n",
    "Calculate the expected values based on the geometric distribution with a probability of 54.5%\n",
    "Compare the expected vs. the observed values from the textbook using the Chi-Square distribution\n",
    "Reach a conclusion\n",
    "Explain what is the business impact of your conclusion\n",
    "'''"
   ]
  }
 ],
 "metadata": {
  "colab": {
   "collapsed_sections": [],
   "name": "Assignment 3v.3.ipynb",
   "provenance": [],
   "version": "0.3.2"
  },
  "kernelspec": {
   "display_name": "Python 3 (ipykernel)",
   "language": "python",
   "name": "python3"
  },
  "language_info": {
   "codemirror_mode": {
    "name": "ipython",
    "version": 3
   },
   "file_extension": ".py",
   "mimetype": "text/x-python",
   "name": "python",
   "nbconvert_exporter": "python",
   "pygments_lexer": "ipython3",
   "version": "3.9.12"
  }
 },
 "nbformat": 4,
 "nbformat_minor": 4
}
